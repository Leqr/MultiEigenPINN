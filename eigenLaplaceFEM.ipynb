{
 "cells": [
  {
   "cell_type": "code",
   "execution_count": null,
   "metadata": {},
   "outputs": [],
   "source": [
    "import numpy as np\n",
    "import matplotlib.pyplot as plt\n",
    "from scipy import sparse\n",
    "import numpy.linalg as npl"
   ]
  },
  {
   "cell_type": "code",
   "execution_count": null,
   "metadata": {},
   "outputs": [],
   "source": [
    "def coordToIdx(x,y,N):\n",
    "    return x + y*N\n",
    "\n",
    "def vec2mat(x,N):\n",
    "    mat = np.zeros((N,N))\n",
    "    for i in range(N):\n",
    "        for j in range(N):\n",
    "            idx = coordToIdx(i,j,N)\n",
    "            mat[i,j] = x[idx]\n",
    "    return mat\n",
    "def plotContour(matrix,N): \n",
    "    plt.contourf(np.linspace(0,1,N),np.linspace(0,1,N),matrix)\n",
    "    plt.xlabel('x')\n",
    "    plt.ylabel('y')\n",
    "    plt.colorbar()\n",
    "    plt.show()\n",
    "def generateLaplacianMatrix2D(N):\n",
    "\th = 1/N\n",
    "\t#assembly of the matrix second order FD\n",
    "\tA = sparse.diags([1.0,1.0, -4.0, 1.0,1.0], [-N,-1, 0, 1,N], shape=(N*N, N*N),format = \"csr\")\n",
    "\n",
    "\t#assembly of the matrix fourth order FD \n",
    "\t#A = sparse.diags([-1,-1, 4, -1,-1], [-N,-1, 0, 1,N], shape=(N*N, N*N),format = \"csr\")\n",
    "    \n",
    "\treturn A/(h**2)\n",
    "\n",
    "def generateLaplacianMatrix1D(N):\n",
    "\th = 1/N\n",
    "\n",
    "    #assembly of the matrix second order FD\n",
    "\tA = sparse.diags([1.0, -2.0, 1.0], [-1, 0, 1], shape=(N, N),format = \"csr\")\n",
    "\n",
    "\t#assembly of the matrix sixth order FD\n",
    "\t#A = sparse.diags([1.0/90.0, -3.0/20, 3.0/2.0, -49.0/18.0, 3.0/2.0, -3.0/20, 1.0/90], [-3,-2,-1, 0, 1,2,3], shape=(N, N),format = \"csr\")\n",
    "\n",
    "\treturn A/(h**2)\n",
    "\n",
    "def generateLoadVector(const,N):\n",
    "    return np.ones(N*N)*const\n",
    "\n",
    "def argand(a):\n",
    "    import matplotlib.pyplot as plt\n",
    "    import numpy as np\n",
    "    for x in range(len(a)):\n",
    "        plt.plot([0,a[x].real],[0,a[x].imag],'ro-',label='python')\n",
    "    limit=np.max(np.ceil(np.absolute(a))) # set limits for axis\n",
    "    plt.xlim((-limit,limit))\n",
    "    plt.ylim((-limit,limit))\n",
    "    plt.ylabel('Imaginary')\n",
    "    plt.xlabel('Real')\n",
    "    plt.show()"
   ]
  },
  {
   "cell_type": "markdown",
   "metadata": {},
   "source": [
    "# Solve 1D Laplace eigenvalue problem:\n",
    "\n",
    "$\\frac{\\partial^2 u}{\\partial x^2}(x) = \\lambda u(x)$\n",
    "\n",
    "$u(0) = u(1) = 0 $ \n",
    "\n",
    "$\\Omega = [0,1] $\n",
    "\n",
    "Use a second order finite difference of the second derivative such that the problem becomes :\n",
    "\n",
    "$Au = \\lambda u$\n",
    "\n",
    "where $A \\in R^{N \\times N}$ a tridiagonal matrix."
   ]
  },
  {
   "cell_type": "markdown",
   "metadata": {},
   "source": [
    "### Analytic solution \n",
    "$\\lambda < 0$\n",
    "\n",
    "$u(x) = sin({n \\pi}x)$\n"
   ]
  },
  {
   "cell_type": "code",
   "execution_count": 8,
   "metadata": {},
   "outputs": [],
   "source": [
    "#solve the problem\n",
    "N = 10000\n",
    "A = -1.0*generateLaplacianMatrix1D(N)\n",
    "A = A.todense()\n",
    "vals, vecs = npl.eig(A)"
   ]
  },
  {
   "cell_type": "code",
   "execution_count": null,
   "metadata": {},
   "outputs": [],
   "source": [
    "#sort by eigenvalue size\n",
    "idx = np.argsort(vals)\n",
    "vals = vals[idx]\n",
    "vecs = vecs[:,idx]\n",
    "\n",
    "\n",
    "print(\"Min lambda : \",min(vals))\n",
    "print(\"Max lambda : \",max(vals))\n",
    "\n",
    "#plot the first few solutions\n",
    "for i in range(6):\n",
    "    x = np.linspace(0,1,N)\n",
    "\n",
    "    y_true = np.array([np.sin((i+1)*3.1415*xi) for xi in x])\n",
    "    norm_true = npl.norm(y_true)\n",
    "    y_num = norm_true*np.real(vecs[:,i])\n",
    "    print(\"Lambda {} = {}\".format(i+1,np.real(vals[i])))\n",
    "    plt.figure()\n",
    "    plt.plot(np.linspace(0,1,N),y_num,label = \"numerical\")\n",
    "    plt.plot(x,y_true,label = \"analytic\")\n",
    "    plt.legend()\n"
   ]
  },
  {
   "cell_type": "markdown",
   "metadata": {},
   "source": [
    "# Solve 2D Laplace eigenvalue problem:\n",
    "\n",
    "$\\frac{\\partial^2 u}{\\partial x^2}(x,y) + \\frac{\\partial^2 u}{\\partial y^2}(x,y) = \\lambda u(x,y)$\n",
    "\n",
    "$u(x,y) = 0 $ on $\\partial \\Omega$\n",
    "\n",
    "$\\Omega = [0,1] \\times [0,1]$\n",
    "\n",
    "Use a second order finite difference of the second derivative such that the problem becomes :\n",
    "\n",
    "$Au = \\lambda u$\n",
    "\n",
    "where $A \\in R^{N^2 \\times N^2}$ a tridiagonal matrix."
   ]
  },
  {
   "cell_type": "code",
   "execution_count": null,
   "metadata": {},
   "outputs": [],
   "source": [
    "N = 30\n",
    "A = generateLaplacianMatrix2D(N)\n",
    "A = A.todense()\n",
    "vals, vecs = npl.eig(A)"
   ]
  },
  {
   "cell_type": "code",
   "execution_count": null,
   "metadata": {},
   "outputs": [],
   "source": [
    "for i in range(6):\n",
    "    mat = vec2mat(np.real(vecs[:,i]),N)\n",
    "    print(\"Lambda {} = {}\".format(i,np.real(vals[i])))\n",
    "    plotContour(mat,N)"
   ]
  },
  {
   "cell_type": "code",
   "execution_count": null,
   "metadata": {},
   "outputs": [],
   "source": []
  }
 ],
 "metadata": {
  "interpreter": {
   "hash": "08eac26dc1f80337b7d87e94e7159a5bad95c2e85f47efef91c61359b3afbfe9"
  },
  "kernelspec": {
   "display_name": "Python 3.9.7 64-bit ('ml': conda)",
   "name": "python3"
  },
  "language_info": {
   "codemirror_mode": {
    "name": "ipython",
    "version": 3
   },
   "file_extension": ".py",
   "mimetype": "text/x-python",
   "name": "python",
   "nbconvert_exporter": "python",
   "pygments_lexer": "ipython3",
   "version": "3.9.7"
  },
  "orig_nbformat": 4
 },
 "nbformat": 4,
 "nbformat_minor": 2
}
